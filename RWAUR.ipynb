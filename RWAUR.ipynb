{
 "cells": [
  {
   "cell_type": "markdown",
   "metadata": {},
   "source": [
    "# Photometry using astropy photutils and AAVSO comparison stars\n",
    "\n",
    "## 1 Import dependencies and setup matplotlib"
   ]
  },
  {
   "cell_type": "code",
   "execution_count": 8,
   "metadata": {
    "collapsed": true
   },
   "outputs": [],
   "source": [
    "import requests, math, glob\n",
    "import pandas as pd\n",
    "import numpy as np\n",
    "from photutils.detection import DAOStarFinder\n",
    "from photutils.aperture import aperture_photometry\n",
    "from photutils.aperture import CircularAperture\n",
    "from astropy.stats import mad_std\n",
    "from astropy.io import fits\n",
    "from astropy.coordinates import SkyCoord\n",
    "from astropy.wcs import WCS\n",
    "import astropy.units as u\n",
    "import matplotlib.pyplot as plt\n",
    "from astroquery.simbad import Simbad\n",
    "from datetime import datetime\n",
    "import warnings\n",
    "warnings.filterwarnings('ignore')\n"
   ]
  },
  {
   "cell_type": "markdown",
   "metadata": {},
   "source": [
    "## 2  Define input file, star name and comparason star range¶"
   ]
  },
  {
   "cell_type": "code",
   "execution_count": 9,
   "metadata": {
    "collapsed": true
   },
   "outputs": [],
   "source": [
    "FITS_FILE = '/home/gtulloch/Projects/Photometry-Pipeline/data/BGO/RWAUR-ID12496-OC145880-GR5353-B.fit'\n",
    "STAR_NAME = 'RW AUR'\n",
    "BRIGHTEST_COMPARISON_STAR_MAG = 11.0\n",
    "DIMMEST_COMPARISON_STAR_MAG = 13.0"
   ]
  },
  {
   "cell_type": "markdown",
   "metadata": {},
   "source": [
    "\n",
    "## 3 Define a function to download comparison stars from AAVSO. \n",
    "\n",
    "This will return a tuple containing an array and the chart ID."
   ]
  },
  {
   "cell_type": "code",
   "execution_count": 10,
   "metadata": {
    "collapsed": true
   },
   "outputs": [],
   "source": [
    "def get_comp_stars(ra,dec,filter_band='V',field_of_view=18.5):\n",
    "    result = []\n",
    "    vsp_template = 'https://www.aavso.org/apps/vsp/api/chart/?format=json&fov={}&maglimit=18.5&ra={}&dec={}'\n",
    "    print(vsp_template.format(field_of_view, ra, dec))\n",
    "    r = requests.get(vsp_template.format(field_of_view, ra, dec))\n",
    "    chart_id = r.json()['chartid']\n",
    "    print('Downloaded Comparison Star Chart ID {}'.format(chart_id))\n",
    "    for star in r.json()['photometry']:\n",
    "        comparison = {}\n",
    "        comparison['auid'] = star['auid']\n",
    "        comparison['ra'] = star['ra']\n",
    "        comparison['dec'] = star['dec']\n",
    "        for band in star['bands']:\n",
    "            if band['band'] == filter_band:\n",
    "                comparison['vmag'] = band['mag']\n",
    "                comparison['error'] = band['error']\n",
    "        result.append(comparison)\n",
    "    return result, chart_id"
   ]
  },
  {
   "cell_type": "markdown",
   "metadata": {},
   "source": [
    "## 4 Download comparison stars and search simbad for our target.\n",
    "\n",
    "Use astroquery to locate the RA/DEC of our target star.\n",
    "\n",
    "Here we also define `results` which will be a collection of data progressivly enriched as we go\n"
   ]
  },
  {
   "cell_type": "code",
   "execution_count": 11,
   "metadata": {},
   "outputs": [
    {
     "name": "stdout",
     "output_type": "stream",
     "text": [
      "https://www.aavso.org/apps/vsp/api/chart/?format=json&fov=18.5&maglimit=18.5&ra=05 07 49.5662&dec=30 24 05.177\n",
      "Downloaded Comparison Star Chart ID X34463DV\n",
      "10 comp stars found\n"
     ]
    },
    {
     "data": {
      "text/plain": [
       "[{'auid': '000-BBH-921',\n",
       "  'ra': '05:07:24.62',\n",
       "  'dec': '30:20:28.1',\n",
       "  'vmag': 9.617,\n",
       "  'error': 0.04},\n",
       " {'auid': '000-BBH-941',\n",
       "  'ra': '05:07:52.64',\n",
       "  'dec': '30:30:33.0',\n",
       "  'vmag': 11.057,\n",
       "  'error': 0.019},\n",
       " {'auid': '000-BBH-947',\n",
       "  'ra': '05:08:05.17',\n",
       "  'dec': '30:18:40.6',\n",
       "  'vmag': 11.437,\n",
       "  'error': 0.011},\n",
       " {'auid': '000-BBH-938',\n",
       "  'ra': '05:07:50.55',\n",
       "  'dec': '30:19:02.5',\n",
       "  'vmag': 12.046,\n",
       "  'error': 0.012},\n",
       " {'auid': '000-BBH-935',\n",
       "  'ra': '05:07:47.62',\n",
       "  'dec': '30:26:58.7',\n",
       "  'vmag': 12.707,\n",
       "  'error': 0.006},\n",
       " {'auid': '000-BKL-839',\n",
       "  'ra': '05:07:35.27',\n",
       "  'dec': '30:24:47.0',\n",
       "  'vmag': 12.901,\n",
       "  'error': 0.017},\n",
       " {'auid': '000-BLV-683',\n",
       "  'ra': '05:08:08.43',\n",
       "  'dec': '30:22:08.8',\n",
       "  'vmag': 13.09,\n",
       "  'error': 0.006},\n",
       " {'auid': '000-BKL-841',\n",
       "  'ra': '05:07:55.52',\n",
       "  'dec': '30:16:36.3',\n",
       "  'vmag': 13.464,\n",
       "  'error': 0.017},\n",
       " {'auid': '000-BLV-684',\n",
       "  'ra': '05:08:12.37',\n",
       "  'dec': '30:24:35.6',\n",
       "  'vmag': 13.472,\n",
       "  'error': 0.0},\n",
       " {'auid': '000-BLV-685',\n",
       "  'ra': '05:08:04.46',\n",
       "  'dec': '30:20:55.3',\n",
       "  'vmag': 14.046,\n",
       "  'error': 0.021},\n",
       " {'auid': 'target', 'ra': '05 07 49.5662', 'dec': '30 24 05.177'}]"
      ]
     },
     "execution_count": 11,
     "metadata": {},
     "output_type": "execute_result"
    }
   ],
   "source": [
    "astroquery_results = Simbad.query_object(STAR_NAME)\n",
    "TARGET_RA = str(astroquery_results[0]['RA'])\n",
    "TARGET_DEC = str(astroquery_results[0]['DEC']).replace('+','').replace('-','')\n",
    "results, chart_id = get_comp_stars(TARGET_RA, TARGET_DEC)\n",
    "print('{} comp stars found'.format(len(results)))\n",
    "results.append({'auid': 'target', 'ra': TARGET_RA, 'dec': TARGET_DEC})\n",
    "\n",
    "results"
   ]
  },
  {
   "cell_type": "markdown",
   "metadata": {},
   "source": [
    "## 5 Extract all sources from image"
   ]
  },
  {
   "cell_type": "code",
   "execution_count": 12,
   "metadata": {},
   "outputs": [
    {
     "data": {
      "text/html": [
       "<div><i>QTable length=57</i>\n",
       "<table id=\"table140174803555216\" class=\"table-striped table-bordered table-condensed\">\n",
       "<thead><tr><th>id</th><th>xcentroid</th><th>ycentroid</th><th>sharpness</th><th>roundness1</th><th>roundness2</th><th>npix</th><th>sky</th><th>peak</th><th>flux</th><th>mag</th></tr></thead>\n",
       "<thead><tr><th>int64</th><th>float64</th><th>float64</th><th>float64</th><th>float64</th><th>float64</th><th>int64</th><th>float64</th><th>float64</th><th>float64</th><th>float64</th></tr></thead>\n",
       "<tr><td>1</td><td>947.861590909742</td><td>55.38494074002458</td><td>0.5355321525771656</td><td>0.29928891625487103</td><td>-0.06390957134245706</td><td>25</td><td>0.0</td><td>919.0</td><td>3.273571912221738</td><td>-1.2875547143272938</td></tr>\n",
       "<tr><td>2</td><td>760.3162124695637</td><td>58.170167869150575</td><td>0.4210630809150676</td><td>0.09859457295402321</td><td>-0.432645420640777</td><td>25</td><td>0.0</td><td>431.0</td><td>1.1146339871775315</td><td>-0.11783070333781887</td></tr>\n",
       "<tr><td>3</td><td>193.03342243823337</td><td>134.91093282246263</td><td>0.350784847353616</td><td>-0.10714575004217475</td><td>-0.30573102750045755</td><td>25</td><td>0.0</td><td>1306.0</td><td>5.1048940913174015</td><td>-1.7699668410653744</td></tr>\n",
       "<tr><td>4</td><td>1366.3353645355774</td><td>145.25636804340616</td><td>0.5903375889151248</td><td>0.2872929039485848</td><td>0.08143188850620682</td><td>25</td><td>0.0</td><td>4369.0</td><td>17.703126355828616</td><td>-3.1201249228520127</td></tr>\n",
       "<tr><td>5</td><td>789.0919390923975</td><td>147.0508607245247</td><td>0.5592908848406637</td><td>0.5639247150990722</td><td>-0.13897535957457352</td><td>25</td><td>0.0</td><td>431.0</td><td>1.0213748478071643</td><td>-0.022962896984002907</td></tr>\n",
       "<tr><td>6</td><td>407.7099804140923</td><td>194.7475615205637</td><td>0.4939582017223762</td><td>0.2114153372814026</td><td>-0.006310581459245703</td><td>25</td><td>0.0</td><td>594.0</td><td>1.7223012945054808</td><td>-0.5902728200228635</td></tr>\n",
       "<tr><td>7</td><td>1285.7764183646473</td><td>214.36240771038987</td><td>0.5578184837307454</td><td>0.34621808417576005</td><td>0.040549147868890426</td><td>25</td><td>0.0</td><td>720.0</td><td>2.4190341017444608</td><td>-0.9591049769144662</td></tr>\n",
       "<tr><td>8</td><td>654.0820588145001</td><td>219.9891611246668</td><td>0.6077167529669182</td><td>0.5739519798975994</td><td>0.0828158506237739</td><td>25</td><td>0.0</td><td>3229.0</td><td>12.366654544843591</td><td>-2.7306305729978684</td></tr>\n",
       "<tr><td>9</td><td>639.5520522876109</td><td>231.67053352009933</td><td>0.5615787477856459</td><td>0.8192746901072777</td><td>0.33959626808920046</td><td>25</td><td>0.0</td><td>1740.0</td><td>6.118081366017681</td><td>-1.9665381212169075</td></tr>\n",
       "<tr><td>10</td><td>558.43377741123</td><td>233.72941596574603</td><td>0.6166881658844477</td><td>0.7947422231518243</td><td>0.2863628026405136</td><td>25</td><td>0.0</td><td>3500.0</td><td>13.308110165004182</td><td>-2.8102909682916666</td></tr>\n",
       "<tr><td>...</td><td>...</td><td>...</td><td>...</td><td>...</td><td>...</td><td>...</td><td>...</td><td>...</td><td>...</td><td>...</td></tr>\n",
       "<tr><td>48</td><td>792.5286377136791</td><td>1271.322274963276</td><td>0.45877729223472474</td><td>-0.09703042044155494</td><td>-0.1556133781527899</td><td>25</td><td>0.0</td><td>1324.0</td><td>4.668828415702663</td><td>-1.6730197836261111</td></tr>\n",
       "<tr><td>49</td><td>1242.4736698764186</td><td>1274.0711420565908</td><td>0.4432735326413946</td><td>0.09623745180634467</td><td>0.031094142678010743</td><td>25</td><td>0.0</td><td>686.0</td><td>1.8837091649393267</td><td>-0.6875346269646623</td></tr>\n",
       "<tr><td>50</td><td>1472.983624997683</td><td>1334.277520962656</td><td>0.27651877046906037</td><td>-0.3380850312118179</td><td>-0.37732207536186724</td><td>25</td><td>0.0</td><td>952.0</td><td>3.168371188497188</td><td>-1.252090138474799</td></tr>\n",
       "<tr><td>51</td><td>1403.5152127710662</td><td>1389.3137809249863</td><td>0.382157395250409</td><td>-0.5754003896965398</td><td>-0.568727975576576</td><td>25</td><td>0.0</td><td>915.0</td><td>3.0868704368647912</td><td>-1.223796003786609</td></tr>\n",
       "<tr><td>52</td><td>805.4963553446966</td><td>1483.554534370656</td><td>0.4732215213124859</td><td>-0.3646486351854227</td><td>-0.1598336607287792</td><td>25</td><td>0.0</td><td>571.0</td><td>1.8125618274919495</td><td>-0.6457320738049871</td></tr>\n",
       "<tr><td>53</td><td>1401.509126387516</td><td>1495.3463467879208</td><td>0.4428209564329065</td><td>-0.32158877898638427</td><td>-0.19843743399301822</td><td>25</td><td>0.0</td><td>625.0</td><td>1.8767445293116758</td><td>-0.6835128964423491</td></tr>\n",
       "<tr><td>54</td><td>168.01904888549012</td><td>1502.4933953997818</td><td>0.4870922019414933</td><td>0.1921165604687468</td><td>-0.16257757009216453</td><td>25</td><td>0.0</td><td>388.0</td><td>1.0991322838763822</td><td>-0.10262491054068551</td></tr>\n",
       "<tr><td>55</td><td>184.597669681931</td><td>1522.3013351792677</td><td>0.49895067300827556</td><td>0.07660696721691596</td><td>-0.11104189613053123</td><td>25</td><td>0.0</td><td>427.0</td><td>1.2737603466727467</td><td>-0.2627193119368541</td></tr>\n",
       "<tr><td>56</td><td>2.4366062930212533</td><td>1533.3856673903824</td><td>0.6663973755008641</td><td>-0.5403155310641385</td><td>-0.9996432976448791</td><td>25</td><td>0.0</td><td>323.0</td><td>1.2372509609014959</td><td>-0.23114449943703141</td></tr>\n",
       "<tr><td>57</td><td>1533.3715475941754</td><td>1533.1992636090017</td><td>0.6455464174564977</td><td>-0.20474955180803125</td><td>-0.6499425191822563</td><td>25</td><td>0.0</td><td>315.0</td><td>1.3022837795161992</td><td>-0.286764078186048</td></tr>\n",
       "</table></div>"
      ],
      "text/plain": [
       "<QTable length=57>\n",
       "  id      xcentroid      ...        flux                 mag         \n",
       "int64      float64       ...      float64              float64       \n",
       "----- ------------------ ... ------------------ ---------------------\n",
       "    1   947.861590909742 ...  3.273571912221738   -1.2875547143272938\n",
       "    2  760.3162124695637 ... 1.1146339871775315  -0.11783070333781887\n",
       "    3 193.03342243823337 ... 5.1048940913174015   -1.7699668410653744\n",
       "    4 1366.3353645355774 ... 17.703126355828616   -3.1201249228520127\n",
       "    5  789.0919390923975 ... 1.0213748478071643 -0.022962896984002907\n",
       "    6  407.7099804140923 ... 1.7223012945054808   -0.5902728200228635\n",
       "    7 1285.7764183646473 ... 2.4190341017444608   -0.9591049769144662\n",
       "    8  654.0820588145001 ... 12.366654544843591   -2.7306305729978684\n",
       "    9  639.5520522876109 ...  6.118081366017681   -1.9665381212169075\n",
       "   10    558.43377741123 ... 13.308110165004182   -2.8102909682916666\n",
       "  ...                ... ...                ...                   ...\n",
       "   48  792.5286377136791 ...  4.668828415702663   -1.6730197836261111\n",
       "   49 1242.4736698764186 ... 1.8837091649393267   -0.6875346269646623\n",
       "   50  1472.983624997683 ...  3.168371188497188    -1.252090138474799\n",
       "   51 1403.5152127710662 ... 3.0868704368647912    -1.223796003786609\n",
       "   52  805.4963553446966 ... 1.8125618274919495   -0.6457320738049871\n",
       "   53  1401.509126387516 ... 1.8767445293116758   -0.6835128964423491\n",
       "   54 168.01904888549012 ... 1.0991322838763822  -0.10262491054068551\n",
       "   55   184.597669681931 ... 1.2737603466727467   -0.2627193119368541\n",
       "   56 2.4366062930212533 ... 1.2372509609014959  -0.23114449943703141\n",
       "   57 1533.3715475941754 ... 1.3022837795161992    -0.286764078186048"
      ]
     },
     "execution_count": 12,
     "metadata": {},
     "output_type": "execute_result"
    }
   ],
   "source": [
    "# extract sources from image and add details to comp_stars\n",
    "fwhm = 3.0\n",
    "source_snr = 20\n",
    "hdulist = fits.open(FITS_FILE)\n",
    "data = hdulist[0].data.astype(float)\n",
    "header = hdulist[0].header\n",
    "wcs = WCS(header)\n",
    "bkg_sigma = mad_std(data)    \n",
    "daofind = DAOStarFinder(fwhm=fwhm, threshold=source_snr*bkg_sigma)    \n",
    "sources = daofind(data)\n",
    "\n",
    "sources"
   ]
  },
  {
   "cell_type": "markdown",
   "metadata": {},
   "source": [
    "## 6 Find the sources that correspond to our target and comparison stars\n",
    "\n",
    "Any source within 4 arc seconds of a comparison star is considered a match. Here the `results` will be converted to a pandas dataframe and will now contain the x,y coords of the target and comparison stars."
   ]
  },
  {
   "cell_type": "code",
   "execution_count": 13,
   "metadata": {},
   "outputs": [
    {
     "name": "stdout",
     "output_type": "stream",
     "text": [
      "2\n"
     ]
    },
    {
     "data": {
      "text/html": [
       "<div>\n",
       "<style scoped>\n",
       "    .dataframe tbody tr th:only-of-type {\n",
       "        vertical-align: middle;\n",
       "    }\n",
       "\n",
       "    .dataframe tbody tr th {\n",
       "        vertical-align: top;\n",
       "    }\n",
       "\n",
       "    .dataframe thead th {\n",
       "        text-align: right;\n",
       "    }\n",
       "</style>\n",
       "<table border=\"1\" class=\"dataframe\">\n",
       "  <thead>\n",
       "    <tr style=\"text-align: right;\">\n",
       "      <th></th>\n",
       "      <th>auid</th>\n",
       "      <th>ra</th>\n",
       "      <th>dec</th>\n",
       "      <th>vmag</th>\n",
       "      <th>error</th>\n",
       "      <th>x</th>\n",
       "      <th>y</th>\n",
       "      <th>peak</th>\n",
       "    </tr>\n",
       "  </thead>\n",
       "  <tbody>\n",
       "    <tr>\n",
       "      <th>0</th>\n",
       "      <td>000-BBH-921</td>\n",
       "      <td>05:07:24.62</td>\n",
       "      <td>30:20:28.1</td>\n",
       "      <td>9.617</td>\n",
       "      <td>0.040</td>\n",
       "      <td>381.824848</td>\n",
       "      <td>500.040333</td>\n",
       "      <td>14169.0</td>\n",
       "    </tr>\n",
       "    <tr>\n",
       "      <th>1</th>\n",
       "      <td>000-BBH-941</td>\n",
       "      <td>05:07:52.64</td>\n",
       "      <td>30:30:33.0</td>\n",
       "      <td>11.057</td>\n",
       "      <td>0.019</td>\n",
       "      <td>769.838463</td>\n",
       "      <td>1147.365567</td>\n",
       "      <td>3537.0</td>\n",
       "    </tr>\n",
       "    <tr>\n",
       "      <th>2</th>\n",
       "      <td>000-BBH-947</td>\n",
       "      <td>05:08:05.17</td>\n",
       "      <td>30:18:40.6</td>\n",
       "      <td>11.437</td>\n",
       "      <td>0.011</td>\n",
       "      <td>943.707087</td>\n",
       "      <td>384.987222</td>\n",
       "      <td>2149.0</td>\n",
       "    </tr>\n",
       "    <tr>\n",
       "      <th>3</th>\n",
       "      <td>000-BBH-938</td>\n",
       "      <td>05:07:50.55</td>\n",
       "      <td>30:19:02.5</td>\n",
       "      <td>12.046</td>\n",
       "      <td>0.012</td>\n",
       "      <td>741.088988</td>\n",
       "      <td>408.329135</td>\n",
       "      <td>1469.0</td>\n",
       "    </tr>\n",
       "    <tr>\n",
       "      <th>4</th>\n",
       "      <td>000-BBH-935</td>\n",
       "      <td>05:07:47.62</td>\n",
       "      <td>30:26:58.7</td>\n",
       "      <td>12.707</td>\n",
       "      <td>0.006</td>\n",
       "      <td>700.432847</td>\n",
       "      <td>917.990542</td>\n",
       "      <td>932.0</td>\n",
       "    </tr>\n",
       "    <tr>\n",
       "      <th>5</th>\n",
       "      <td>000-BKL-839</td>\n",
       "      <td>05:07:35.27</td>\n",
       "      <td>30:24:47.0</td>\n",
       "      <td>12.901</td>\n",
       "      <td>0.017</td>\n",
       "      <td>529.471611</td>\n",
       "      <td>777.055729</td>\n",
       "      <td>962.0</td>\n",
       "    </tr>\n",
       "    <tr>\n",
       "      <th>6</th>\n",
       "      <td>000-BLV-683</td>\n",
       "      <td>05:08:08.43</td>\n",
       "      <td>30:22:08.8</td>\n",
       "      <td>13.090</td>\n",
       "      <td>0.006</td>\n",
       "      <td>988.692420</td>\n",
       "      <td>607.856477</td>\n",
       "      <td>613.0</td>\n",
       "    </tr>\n",
       "    <tr>\n",
       "      <th>7</th>\n",
       "      <td>000-BKL-841</td>\n",
       "      <td>05:07:55.52</td>\n",
       "      <td>30:16:36.3</td>\n",
       "      <td>13.464</td>\n",
       "      <td>0.017</td>\n",
       "      <td>810.023814</td>\n",
       "      <td>251.874422</td>\n",
       "      <td>566.0</td>\n",
       "    </tr>\n",
       "    <tr>\n",
       "      <th>8</th>\n",
       "      <td>000-BLV-684</td>\n",
       "      <td>05:08:12.37</td>\n",
       "      <td>30:24:35.6</td>\n",
       "      <td>13.472</td>\n",
       "      <td>0.000</td>\n",
       "      <td>1043.103696</td>\n",
       "      <td>765.025073</td>\n",
       "      <td>481.0</td>\n",
       "    </tr>\n",
       "    <tr>\n",
       "      <th>9</th>\n",
       "      <td>000-BLV-685</td>\n",
       "      <td>05:08:04.46</td>\n",
       "      <td>30:20:55.3</td>\n",
       "      <td>14.046</td>\n",
       "      <td>0.021</td>\n",
       "      <td>NaN</td>\n",
       "      <td>NaN</td>\n",
       "      <td>NaN</td>\n",
       "    </tr>\n",
       "    <tr>\n",
       "      <th>10</th>\n",
       "      <td>target</td>\n",
       "      <td>05 07 49.5662</td>\n",
       "      <td>30 24 05.177</td>\n",
       "      <td>NaN</td>\n",
       "      <td>NaN</td>\n",
       "      <td>727.398895</td>\n",
       "      <td>732.276032</td>\n",
       "      <td>2791.0</td>\n",
       "    </tr>\n",
       "  </tbody>\n",
       "</table>\n",
       "</div>"
      ],
      "text/plain": [
       "           auid             ra           dec    vmag  error            x  \\\n",
       "0   000-BBH-921    05:07:24.62    30:20:28.1   9.617  0.040   381.824848   \n",
       "1   000-BBH-941    05:07:52.64    30:30:33.0  11.057  0.019   769.838463   \n",
       "2   000-BBH-947    05:08:05.17    30:18:40.6  11.437  0.011   943.707087   \n",
       "3   000-BBH-938    05:07:50.55    30:19:02.5  12.046  0.012   741.088988   \n",
       "4   000-BBH-935    05:07:47.62    30:26:58.7  12.707  0.006   700.432847   \n",
       "5   000-BKL-839    05:07:35.27    30:24:47.0  12.901  0.017   529.471611   \n",
       "6   000-BLV-683    05:08:08.43    30:22:08.8  13.090  0.006   988.692420   \n",
       "7   000-BKL-841    05:07:55.52    30:16:36.3  13.464  0.017   810.023814   \n",
       "8   000-BLV-684    05:08:12.37    30:24:35.6  13.472  0.000  1043.103696   \n",
       "9   000-BLV-685    05:08:04.46    30:20:55.3  14.046  0.021          NaN   \n",
       "10       target  05 07 49.5662  30 24 05.177     NaN    NaN   727.398895   \n",
       "\n",
       "              y     peak  \n",
       "0    500.040333  14169.0  \n",
       "1   1147.365567   3537.0  \n",
       "2    384.987222   2149.0  \n",
       "3    408.329135   1469.0  \n",
       "4    917.990542    932.0  \n",
       "5    777.055729    962.0  \n",
       "6    607.856477    613.0  \n",
       "7    251.874422    566.0  \n",
       "8    765.025073    481.0  \n",
       "9           NaN      NaN  \n",
       "10   732.276032   2791.0  "
      ]
     },
     "execution_count": 13,
     "metadata": {},
     "output_type": "execute_result"
    }
   ],
   "source": [
    "print(wcs.naxis)\n",
    "for star in results:\n",
    "    star_coord = SkyCoord(star['ra'],star['dec'], unit=(u.hourangle, u.deg))\n",
    "    xy = SkyCoord.to_pixel(star_coord, wcs=wcs, origin=1)\n",
    "    x = xy[0].item(0)\n",
    "    y = xy[1].item(0)\n",
    "    for source in sources:\n",
    "        if(source['xcentroid']-4 < x < source['xcentroid']+4) and source['ycentroid']-4 < y < source['ycentroid']+4:\n",
    "            star['x'] = x\n",
    "            star['y'] = y\n",
    "            star['peak'] = source['peak']\n",
    "results = pd.DataFrame(results)\n",
    "results"
   ]
  },
  {
   "cell_type": "markdown",
   "metadata": {},
   "source": [
    "## 7 Plot the image annotated with the comparsion stars\n",
    "This is just to check everything looks ok"
   ]
  },
  {
   "cell_type": "code",
   "execution_count": 52,
   "metadata": {},
   "outputs": [
    {
     "name": "stdout",
     "output_type": "stream",
     "text": [
      "(0      381.824848\n",
      "1      769.838463\n",
      "2      943.707087\n",
      "3      741.088988\n",
      "4      700.432847\n",
      "5      529.471611\n",
      "6      988.692420\n",
      "7      810.023814\n",
      "8     1043.103696\n",
      "10     727.398895\n",
      "Name: x, dtype: float64, 0      500.040333\n",
      "1     1147.365567\n",
      "2      384.987222\n",
      "3      408.329135\n",
      "4      917.990542\n",
      "5      777.055729\n",
      "6      607.856477\n",
      "7      251.874422\n",
      "8      765.025073\n",
      "10     732.276032\n",
      "Name: y, dtype: float64)\n"
     ]
    },
    {
     "ename": "ValueError",
     "evalue": "'positions' must be a (x, y) pixel position or a list or array of (x, y) pixel positions, e.g., [(x1, y1), (x2, y2), (x3, y3)]",
     "output_type": "error",
     "traceback": [
      "\u001b[0;31m---------------------------------------------------------------------------\u001b[0m",
      "\u001b[0;31mValueError\u001b[0m                                Traceback (most recent call last)",
      "\u001b[1;32m/home/gtulloch/Projects/Photometry-Pipeline/AGDRA.ipynb Cell 14\u001b[0m line \u001b[0;36m1\n\u001b[1;32m      <a href='vscode-notebook-cell:/home/gtulloch/Projects/Photometry-Pipeline/AGDRA.ipynb#X16sZmlsZQ%3D%3D?line=7'>8</a>\u001b[0m \u001b[39mprint\u001b[39m(positions)\n\u001b[1;32m      <a href='vscode-notebook-cell:/home/gtulloch/Projects/Photometry-Pipeline/AGDRA.ipynb#X16sZmlsZQ%3D%3D?line=8'>9</a>\u001b[0m exit(\u001b[39m0\u001b[39m)\n\u001b[0;32m---> <a href='vscode-notebook-cell:/home/gtulloch/Projects/Photometry-Pipeline/AGDRA.ipynb#X16sZmlsZQ%3D%3D?line=9'>10</a>\u001b[0m position_apps \u001b[39m=\u001b[39m CircularAperture(positions, r\u001b[39m=\u001b[39;49m\u001b[39m20.\u001b[39;49m)    \n\u001b[1;32m     <a href='vscode-notebook-cell:/home/gtulloch/Projects/Photometry-Pipeline/AGDRA.ipynb#X16sZmlsZQ%3D%3D?line=10'>11</a>\u001b[0m \u001b[39m# target_app = CircularAperture(target_xy, r=20.)    \u001b[39;00m\n\u001b[1;32m     <a href='vscode-notebook-cell:/home/gtulloch/Projects/Photometry-Pipeline/AGDRA.ipynb#X16sZmlsZQ%3D%3D?line=11'>12</a>\u001b[0m plt\u001b[39m.\u001b[39mimshow(data, cmap\u001b[39m=\u001b[39m\u001b[39m'\u001b[39m\u001b[39mgray_r\u001b[39m\u001b[39m'\u001b[39m, origin\u001b[39m=\u001b[39m\u001b[39m'\u001b[39m\u001b[39mlower\u001b[39m\u001b[39m'\u001b[39m, vmin\u001b[39m=\u001b[39m\u001b[39m0\u001b[39m, vmax\u001b[39m=\u001b[39m\u001b[39m2500\u001b[39m)\n",
      "File \u001b[0;32m~/Projects/Photometry-Pipeline/.venv/lib/python3.10/site-packages/photutils/aperture/circle.py:146\u001b[0m, in \u001b[0;36mCircularAperture.__init__\u001b[0;34m(self, positions, r)\u001b[0m\n\u001b[1;32m    145\u001b[0m \u001b[39mdef\u001b[39;00m \u001b[39m__init__\u001b[39m(\u001b[39mself\u001b[39m, positions, r):\n\u001b[0;32m--> 146\u001b[0m     \u001b[39mself\u001b[39;49m\u001b[39m.\u001b[39;49mpositions \u001b[39m=\u001b[39m positions\n\u001b[1;32m    147\u001b[0m     \u001b[39mself\u001b[39m\u001b[39m.\u001b[39mr \u001b[39m=\u001b[39m r\n",
      "File \u001b[0;32m~/Projects/Photometry-Pipeline/.venv/lib/python3.10/site-packages/photutils/aperture/attributes.py:80\u001b[0m, in \u001b[0;36mPixelPositions.__set__\u001b[0;34m(self, instance, value)\u001b[0m\n\u001b[1;32m     77\u001b[0m     value \u001b[39m=\u001b[39m \u001b[39mtuple\u001b[39m(value)\n\u001b[1;32m     79\u001b[0m value \u001b[39m=\u001b[39m np\u001b[39m.\u001b[39masanyarray(value)\u001b[39m.\u001b[39mastype(\u001b[39mfloat\u001b[39m)  \u001b[39m# np.ndarray\u001b[39;00m\n\u001b[0;32m---> 80\u001b[0m \u001b[39mself\u001b[39;49m\u001b[39m.\u001b[39;49m_validate(value)\n\u001b[1;32m     81\u001b[0m \u001b[39m# no need to reset if not already in the instance dict\u001b[39;00m\n\u001b[1;32m     82\u001b[0m \u001b[39mif\u001b[39;00m \u001b[39mself\u001b[39m\u001b[39m.\u001b[39mname \u001b[39min\u001b[39;00m instance\u001b[39m.\u001b[39m\u001b[39m__dict__\u001b[39m:\n",
      "File \u001b[0;32m~/Projects/Photometry-Pipeline/.venv/lib/python3.10/site-packages/photutils/aperture/attributes.py:96\u001b[0m, in \u001b[0;36mPixelPositions._validate\u001b[0;34m(self, value)\u001b[0m\n\u001b[1;32m     94\u001b[0m value \u001b[39m=\u001b[39m np\u001b[39m.\u001b[39matleast_2d(value)\n\u001b[1;32m     95\u001b[0m \u001b[39mif\u001b[39;00m value\u001b[39m.\u001b[39mndim \u001b[39m>\u001b[39m \u001b[39m2\u001b[39m \u001b[39mor\u001b[39;00m value\u001b[39m.\u001b[39mshape[\u001b[39m1\u001b[39m] \u001b[39m!=\u001b[39m \u001b[39m2\u001b[39m:\n\u001b[0;32m---> 96\u001b[0m     \u001b[39mraise\u001b[39;00m \u001b[39mValueError\u001b[39;00m(\u001b[39mf\u001b[39m\u001b[39m'\u001b[39m\u001b[39m{\u001b[39;00m\u001b[39mself\u001b[39m\u001b[39m.\u001b[39mname\u001b[39m!r}\u001b[39;00m\u001b[39m must be a (x, y) pixel position \u001b[39m\u001b[39m'\u001b[39m\n\u001b[1;32m     97\u001b[0m                      \u001b[39m'\u001b[39m\u001b[39mor a list or array of (x, y) pixel positions, \u001b[39m\u001b[39m'\u001b[39m\n\u001b[1;32m     98\u001b[0m                      \u001b[39m'\u001b[39m\u001b[39me.g., [(x1, y1), (x2, y2), (x3, y3)]\u001b[39m\u001b[39m'\u001b[39m)\n",
      "\u001b[0;31mValueError\u001b[0m: 'positions' must be a (x, y) pixel position or a list or array of (x, y) pixel positions, e.g., [(x1, y1), (x2, y2), (x3, y3)]"
     ]
    },
    {
     "data": {
      "text/plain": [
       "<Figure size 1440x1280 with 0 Axes>"
      ]
     },
     "metadata": {},
     "output_type": "display_data"
    },
    {
     "ename": "",
     "evalue": "",
     "output_type": "error",
     "traceback": [
      "\u001b[1;31mThe Kernel crashed while executing code in the the current cell or a previous cell. Please review the code in the cell(s) to identify a possible cause of the failure. Click <a href='https://aka.ms/vscodeJupyterKernelCrash'>here</a> for more info. View Jupyter <a href='command:jupyter.viewOutput'>log</a> for further details."
     ]
    }
   ],
   "source": [
    "# plot the image with overlay\n",
    "results = results.query('x > 0 and y > 0') \n",
    "\n",
    "hdulist = fits.open(FITS_FILE)\n",
    "data = hdulist[0].data.astype(float)\n",
    "fig=plt.figure(figsize=(18, 16), dpi= 80, facecolor='w', edgecolor='k')\n",
    "positions = (results['x'], results['y'])    \n",
    "position_apps = CircularAperture(positions, r=20.)    \n",
    "# target_app = CircularAperture(target_xy, r=20.)    \n",
    "plt.imshow(data, cmap='gray_r', origin='lower', vmin=0, vmax=2500)\n",
    "position_apps.plot(color='red', lw=1.5, alpha=0.5)\n",
    "# target_app.plot(color='blue', lw=1.5, alpha=0.5)\n",
    "to_plot = results.query('peak < 50000 and vmag < 20 and vmag > 0') \n",
    "for to_annotate in results.iterrows():\n",
    "    plt.annotate('{}'.format(to_annotate[1]['auid']),\n",
    "        xy=(to_annotate[1]['x'], to_annotate[1]['y']), xycoords='data',\n",
    "        xytext=(-150, 130), textcoords='offset points', size='16',\n",
    "        arrowprops=dict(arrowstyle=\"->\"))"
   ]
  },
  {
   "cell_type": "markdown",
   "metadata": {},
   "source": [
    "## 8 Perform appeture photometry and add to the results\n",
    "instrumental_mag is calculated as -2.5 * LOG10(`aperture_sum`)\n"
   ]
  },
  {
   "cell_type": "code",
   "execution_count": 14,
   "metadata": {},
   "outputs": [
    {
     "ename": "ValueError",
     "evalue": "'positions' must not contain any non-finite (e.g., NaN or inf) positions",
     "output_type": "error",
     "traceback": [
      "\u001b[0;31m---------------------------------------------------------------------------\u001b[0m",
      "\u001b[0;31mValueError\u001b[0m                                Traceback (most recent call last)",
      "\u001b[1;32m/home/gtulloch/Projects/Photometry-Pipeline/AGDRA.ipynb Cell 14\u001b[0m line \u001b[0;36m3\n\u001b[1;32m      <a href='vscode-notebook-cell:/home/gtulloch/Projects/Photometry-Pipeline/AGDRA.ipynb#X21sZmlsZQ%3D%3D?line=0'>1</a>\u001b[0m aperture_radius \u001b[39m=\u001b[39m\u001b[39m6.0\u001b[39m\n\u001b[1;32m      <a href='vscode-notebook-cell:/home/gtulloch/Projects/Photometry-Pipeline/AGDRA.ipynb#X21sZmlsZQ%3D%3D?line=1'>2</a>\u001b[0m positions \u001b[39m=\u001b[39m (results[\u001b[39m'\u001b[39m\u001b[39mx\u001b[39m\u001b[39m'\u001b[39m], results[\u001b[39m'\u001b[39m\u001b[39my\u001b[39m\u001b[39m'\u001b[39m])    \n\u001b[0;32m----> <a href='vscode-notebook-cell:/home/gtulloch/Projects/Photometry-Pipeline/AGDRA.ipynb#X21sZmlsZQ%3D%3D?line=2'>3</a>\u001b[0m apertures \u001b[39m=\u001b[39m CircularAperture(positions, r\u001b[39m=\u001b[39;49maperture_radius)    \n\u001b[1;32m      <a href='vscode-notebook-cell:/home/gtulloch/Projects/Photometry-Pipeline/AGDRA.ipynb#X21sZmlsZQ%3D%3D?line=3'>4</a>\u001b[0m phot_table \u001b[39m=\u001b[39m aperture_photometry(data, apertures)     \n\u001b[1;32m      <a href='vscode-notebook-cell:/home/gtulloch/Projects/Photometry-Pipeline/AGDRA.ipynb#X21sZmlsZQ%3D%3D?line=4'>5</a>\u001b[0m results[\u001b[39m'\u001b[39m\u001b[39maperture_sum\u001b[39m\u001b[39m'\u001b[39m] \u001b[39m=\u001b[39m phot_table[\u001b[39m'\u001b[39m\u001b[39maperture_sum\u001b[39m\u001b[39m'\u001b[39m]\n",
      "File \u001b[0;32m~/Projects/Photometry-Pipeline/.venv/lib/python3.10/site-packages/photutils/aperture/circle.py:146\u001b[0m, in \u001b[0;36mCircularAperture.__init__\u001b[0;34m(self, positions, r)\u001b[0m\n\u001b[1;32m    145\u001b[0m \u001b[39mdef\u001b[39;00m \u001b[39m__init__\u001b[39m(\u001b[39mself\u001b[39m, positions, r):\n\u001b[0;32m--> 146\u001b[0m     \u001b[39mself\u001b[39;49m\u001b[39m.\u001b[39;49mpositions \u001b[39m=\u001b[39m positions\n\u001b[1;32m    147\u001b[0m     \u001b[39mself\u001b[39m\u001b[39m.\u001b[39mr \u001b[39m=\u001b[39m r\n",
      "File \u001b[0;32m~/Projects/Photometry-Pipeline/.venv/lib/python3.10/site-packages/photutils/aperture/attributes.py:80\u001b[0m, in \u001b[0;36mPixelPositions.__set__\u001b[0;34m(self, instance, value)\u001b[0m\n\u001b[1;32m     77\u001b[0m     value \u001b[39m=\u001b[39m \u001b[39mtuple\u001b[39m(value)\n\u001b[1;32m     79\u001b[0m value \u001b[39m=\u001b[39m np\u001b[39m.\u001b[39masanyarray(value)\u001b[39m.\u001b[39mastype(\u001b[39mfloat\u001b[39m)  \u001b[39m# np.ndarray\u001b[39;00m\n\u001b[0;32m---> 80\u001b[0m \u001b[39mself\u001b[39;49m\u001b[39m.\u001b[39;49m_validate(value)\n\u001b[1;32m     81\u001b[0m \u001b[39m# no need to reset if not already in the instance dict\u001b[39;00m\n\u001b[1;32m     82\u001b[0m \u001b[39mif\u001b[39;00m \u001b[39mself\u001b[39m\u001b[39m.\u001b[39mname \u001b[39min\u001b[39;00m instance\u001b[39m.\u001b[39m\u001b[39m__dict__\u001b[39m:\n",
      "File \u001b[0;32m~/Projects/Photometry-Pipeline/.venv/lib/python3.10/site-packages/photutils/aperture/attributes.py:91\u001b[0m, in \u001b[0;36mPixelPositions._validate\u001b[0;34m(self, value)\u001b[0m\n\u001b[1;32m     88\u001b[0m     \u001b[39mraise\u001b[39;00m \u001b[39mTypeError\u001b[39;00m(\u001b[39mf\u001b[39m\u001b[39m'\u001b[39m\u001b[39m{\u001b[39;00m\u001b[39mself\u001b[39m\u001b[39m.\u001b[39mname\u001b[39m!r}\u001b[39;00m\u001b[39m must not be a Quantity\u001b[39m\u001b[39m'\u001b[39m)\n\u001b[1;32m     90\u001b[0m \u001b[39mif\u001b[39;00m np\u001b[39m.\u001b[39many(\u001b[39m~\u001b[39mnp\u001b[39m.\u001b[39misfinite(value)):\n\u001b[0;32m---> 91\u001b[0m     \u001b[39mraise\u001b[39;00m \u001b[39mValueError\u001b[39;00m(\u001b[39mf\u001b[39m\u001b[39m'\u001b[39m\u001b[39m{\u001b[39;00m\u001b[39mself\u001b[39m\u001b[39m.\u001b[39mname\u001b[39m!r}\u001b[39;00m\u001b[39m must not contain any non-finite \u001b[39m\u001b[39m'\u001b[39m\n\u001b[1;32m     92\u001b[0m                      \u001b[39m'\u001b[39m\u001b[39m(e.g., NaN or inf) positions\u001b[39m\u001b[39m'\u001b[39m)\n\u001b[1;32m     94\u001b[0m value \u001b[39m=\u001b[39m np\u001b[39m.\u001b[39matleast_2d(value)\n\u001b[1;32m     95\u001b[0m \u001b[39mif\u001b[39;00m value\u001b[39m.\u001b[39mndim \u001b[39m>\u001b[39m \u001b[39m2\u001b[39m \u001b[39mor\u001b[39;00m value\u001b[39m.\u001b[39mshape[\u001b[39m1\u001b[39m] \u001b[39m!=\u001b[39m \u001b[39m2\u001b[39m:\n",
      "\u001b[0;31mValueError\u001b[0m: 'positions' must not contain any non-finite (e.g., NaN or inf) positions"
     ]
    }
   ],
   "source": [
    "aperture_radius =6.0\n",
    "positions = (results['x'], results['y'])    \n",
    "apertures = CircularAperture(positions, r=aperture_radius)    \n",
    "phot_table = aperture_photometry(data, apertures)     \n",
    "results['aperture_sum'] = phot_table['aperture_sum']\n",
    "# add a col with calculation for instrumental mag\n",
    "results['instrumental_mag'] = results.apply(lambda x: -2.5 * math.log10(x['aperture_sum']), axis = 1)\n",
    "results"
   ]
  },
  {
   "cell_type": "markdown",
   "metadata": {},
   "source": [
    "## 9 Compute the ensemble using the comparison stars.\n",
    "\n",
    "**Use nunmpy linear regression on the comparison stars' vmag and instrumental_mag**\n",
    "\n",
    "We should get a good linear fit with low residuals if the image is of good quality\n",
    "Once we have the fit, feed the target instrumental_mag into the fit function to determine the magnitude.\n",
    "Plot the results to visualise the data quality"
   ]
  },
  {
   "cell_type": "code",
   "execution_count": null,
   "metadata": {},
   "outputs": [],
   "source": [
    "# now perform ensemble photometry by linear regression of the comparison stars' instrumental mags\n",
    "to_linear_fit = results.query('auid != \"target\" and vmag > {} and vmag < {}'.format(BRIGHTEST_COMPARISON_STAR_MAG, DIMMEST_COMPARISON_STAR_MAG)) \n",
    "x = to_linear_fit['instrumental_mag'].values\n",
    "y = to_linear_fit['vmag'].values\n",
    "fit, residuals, rank, singular_values, rcond = np.polyfit(x, y, 1, full=True)\n",
    "fit_fn = np.poly1d(fit) "
   ]
  },
  {
   "cell_type": "markdown",
   "metadata": {},
   "source": [
    "## 10 Use the ensemble fit from above to calculate target mag\n",
    "\n",
    "Plot again for a sanity check"
   ]
  },
  {
   "cell_type": "code",
   "execution_count": null,
   "metadata": {},
   "outputs": [],
   "source": [
    "\n",
    "# fit_fn from above is a function which takes in x and returns an estimate for y, lets feed in the 'target' instrumental mag\n",
    "target_instrumental_magnitude = results[results.auid=='target']['instrumental_mag'].values[0]\n",
    "target_magnitude = fit_fn(target_instrumental_magnitude)\n",
    "print('Magnitude estimate: {} error from residuals {}'.format(target_magnitude, residuals))\n",
    "x = np.append(x,target_instrumental_magnitude)\n",
    "y = np.append(y,target_magnitude)"
   ]
  },
  {
   "cell_type": "markdown",
   "metadata": {},
   "source": [
    "## 11 Use the ensemble to calculate a check star mag\n",
    "\n",
    "Calculate the mag for a check star, lets pick 000-BML-045 from the plot above"
   ]
  },
  {
   "cell_type": "code",
   "execution_count": null,
   "metadata": {},
   "outputs": [
    {
     "name": "stdout",
     "output_type": "stream",
     "text": [
      "Check star 000-BML-045 magnitude = 12.434656369385017\n"
     ]
    }
   ],
   "source": [
    "\n",
    "check_star_instrumental_magnitude = results[results.auid=='000-BML-045']['instrumental_mag'].values[0]\n",
    "check_magnitude = fit_fn(check_star_instrumental_magnitude)\n",
    "print('Check star 000-BML-045 magnitude = {}'.format(check_magnitude))"
   ]
  },
  {
   "cell_type": "markdown",
   "metadata": {},
   "source": [
    "## 12 Summary for submission to AAVSO"
   ]
  },
  {
   "cell_type": "code",
   "execution_count": null,
   "metadata": {},
   "outputs": [
    {
     "name": "stdout",
     "output_type": "stream",
     "text": [
      "Star Identifier: KIC08462852\n",
      "Date-time : 2017/10/02/20/56/22\n",
      "Magnitude: 11.894127782624818 Error: [ 0.0013096]\n",
      "Check Star 000-BML-045 Magnitude: 12.434656369385017\n",
      "Chart ID: X21328CWX\n",
      "Ensemble of ['000-BLS-551' '000-BML-045' '000-BLS-555' '000-BML-046']. Error as residuals of linear fit\n"
     ]
    }
   ],
   "source": [
    "observation_date = datetime.strptime(header['DATE-OBS'], '%Y-%m-%dT%H:%M:%S.%f')\n",
    "print('Star Identifier: {}'.format(STAR_NAME))\n",
    "print('Date-time : {}'.format(observation_date.strftime('%Y/%m/%d/%H/%M/%S')))\n",
    "print('Magnitude: {} Error: {}'.format(target_magnitude, residuals))\n",
    "print('Check Star 000-BML-045 Magnitude: {}'.format(check_magnitude))\n",
    "print('Chart ID: {}'.format(chart_id))\n",
    "print('Ensemble of {}. Error as residuals of linear fit'.format(to_linear_fit['auid'].values))"
   ]
  },
  {
   "cell_type": "code",
   "execution_count": null,
   "metadata": {
    "collapsed": true
   },
   "outputs": [],
   "source": []
  }
 ],
 "metadata": {
  "kernelspec": {
   "display_name": "Python 3",
   "language": "python",
   "name": "python3"
  },
  "language_info": {
   "codemirror_mode": {
    "name": "ipython",
    "version": 3
   },
   "file_extension": ".py",
   "mimetype": "text/x-python",
   "name": "python",
   "nbconvert_exporter": "python",
   "pygments_lexer": "ipython3",
   "version": "3.10.12"
  }
 },
 "nbformat": 4,
 "nbformat_minor": 2
}
